{
 "cells": [
  {
   "cell_type": "markdown",
   "metadata": {},
   "source": [
    "## SQL의 분류 \n",
    "- DML(Data Maipulation Language)\n",
    "  - 데이터 조작 언어\n",
    "  - 데이터를 조작(선택, 삽입, 수정, 삭제)하는데 사용하는 언어\n",
    "  - DML 구문이 사용되는 대상은 테이블의 행\n",
    "  - DML 사용하기 위해서는 꼭 그 이전에 테이블이 정의되어 있어야 함\n",
    "  - SQL문 중 SELECT, INSERT, UPDATE, DELETE가 이 구문에 해당\n",
    "  - 트랜잭션이 발생하는 SQL도 이 DML에 속함\n",
    "  \n",
    "- DDL(Data Definition Language)\n",
    "  - 데이터 정의 언어\n",
    "  - 데이터베이스, 테이블, 뷰, 인덱스 등의 데이터 베이스 개체를 생성/삭제/변경하는 역할\n",
    "  - CREATE, DROP, ALTER 구문\n",
    "  - DDL은 트랜잭션을 발생시키지 않음\n",
    "  - ROLLBACK이나 COMMIT 사용 불가\n",
    "  - DDL문은 실행 즉시 MySQL에 적용\n",
    "  \n",
    "- DCL(Data Control Language)\n",
    "  - 데이터 제어 언어\n",
    "  - 사용자에게 어떤 권한을 부여하거나 빼앗을 때 주로 사용하는 구문\n",
    "  - GRANT/REVOKE 등"
   ]
  },
  {
   "cell_type": "markdown",
   "metadata": {},
   "source": [
    "### SQL 명령어\n",
    "- SHOW DATABASES\n",
    "  - 현재 서버에 어떤 DB가 있는지 보기\n",
    "  \n",
    "- USE\n",
    "  - 사용할 데이터베이스 지정\n",
    "  - 지정해 놓은 후 특별히 다시 USE문 사용하거나 다른 DB를 사용하겠다고 명시 하지 않은 이상 모든 SQL문은 지정 DB에서 수행\n",
    "  - USE database_name\n",
    "  - Workbench에서 직접 선택해 사용 가능\n",
    "  - ex) USE WORLD\n",
    "  \n",
    "- SHOW TABLES\n",
    "  - 데이터베이스 world의 테이블 이름 보기\n",
    "\n",
    "- SHOW TABLE STATUS\n",
    "  - 데이터베이스 테이블 정보 조회\n",
    "  \n",
    "- DESCRIBE(DESC)\n",
    "  - 테이블에 무슨 열이 있는지 확인\n",
    "  - ex) DESCRIBE city;\n",
    "    ex) DESC city;"
   ]
  },
  {
   "cell_type": "markdown",
   "metadata": {},
   "source": [
    "### LAB #1\n",
    "- country 테이블과 countrylanguage 테이블 정보 보기\n",
    "- ans)\n",
    "   - DESCRIBE city;\n",
    "   - DESC country;\n",
    "   - DESC countrylanguage;"
   ]
  },
  {
   "cell_type": "markdown",
   "metadata": {},
   "source": [
    "### SELECT\n",
    "- <SELECT...FROM>\n",
    "- 요구하는 데이터를 가져오는 구문\n",
    "- 일반적으로 가장 많이 사용하는 구문\n",
    "- 데이터베이스 내 테이블에서 원하는 정보를 추출\n",
    "- SELECT의 구문 형식\n",
    "  - SELECT select_expr\n",
    "    - [FROM table_references]\n",
    "    - [WHERE where_condition]\n",
    "    - [GROUP BY {col_name | expr | position}]\n",
    "    - [HAVING where_condition]\n",
    "    - [ORDER BY {col_name | expr | position}]"
   ]
  },
  {
   "cell_type": "markdown",
   "metadata": {},
   "source": [
    "- SELECT * FROM city;\n",
    "  - city table에 있는 전체 low (전체 정보)를 볼 수 있다.\n",
    "  - 이 때 * 는 all의 의미를 가지고 있다.\n",
    "  \n",
    "- SELECT Name, Population From city;\n",
    "  - city table에서 Name, Population에 관한 정보를 가져오겠다.\n",
    "  - Name, Population 순서 변경 시 출력 순서도 변경\n"
   ]
  },
  {
   "cell_type": "markdown",
   "metadata": {},
   "source": [
    "### SELECT FROM WHERE\n",
    "- Column (열) 에 대한 정보가 아닌 row(행)에 대한 정보를 얻고 싶을 때 WHERE구문을 사용한다.\n",
    "- 기본적인 Where 절\n",
    "  - 조회하는 결과에 특정한 조건으로 원하는 데이터만 보고 싶을 때 사용\n",
    "  - SELECT 필드이름 FROM 테이블 이름 WEHRE 조건식;\n",
    "  - 조건이 없을 경우 테이블의 크기가 클수록 찾는 시간과 노력이 증가"
   ]
  },
  {
   "cell_type": "markdown",
   "metadata": {},
   "source": [
    "### 관계 연산자의 사용\n",
    "- OR 연산자\n",
    "- AND 연산자\n",
    "- 조건 연산자(=, <, >, <=, >=, <>, != 등)\n",
    "- 관계 연산자(NOT, AND, OR 등)\n",
    "- 연산자의 조합으로 데이터를 효율적으로 추출\n",
    "\n",
    "- MySQL 함수 및 연산자 :\n",
    "- https://dev.mysql.com/doc/refman/8,0/en/functions.html"
   ]
  },
  {
   "cell_type": "markdown",
   "metadata": {},
   "source": [
    "###### SELECT * FROM city \n",
    "###### WHERE Population >= 800000;\n",
    "- city table에서 population의 수가 800000 이상인 정보 row에 대해 가져온다. \n",
    "\n",
    "##### SELECT * FROM city\n",
    "##### WHERE Population < 80000 \n",
    "##### AND Population > 70000;\n",
    "- AND를 활용하여 조건을 추가 지정하여 찾을 수 있으며 줄 바꿈의 경우 임의적으로 내가 해준 것"
   ]
  },
  {
   "cell_type": "markdown",
   "metadata": {},
   "source": [
    "### LAB2\n",
    "- 한국에 있는 도시들 보기\n",
    "- 미국에 있는 도시들 보기\n",
    "- 한국에 있는 도시들 중에 인구 수가 1,000,000 이상인 도시보기\n",
    "\n",
    "- DESC city;\n",
    "- SELECT * FROM city\n",
    "- WHERE Countrycode = 'KOR';\n",
    "- AND Population >= 1000000;"
   ]
  },
  {
   "cell_type": "markdown",
   "metadata": {},
   "source": [
    "### BETWEEN\n",
    "- 데이터가 숫자로 구성되어 있어 연속적인 BETWEEN...AND 사용 가능\n",
    "- SELECT * FROM city WHERE Population BETWEEN 700000 AND 800000"
   ]
  },
  {
   "cell_type": "markdown",
   "metadata": {},
   "source": [
    "### IN\n",
    "- 이산적인 값의 조건에서는 IN()사용 가능\n",
    "  ####  SELECT * FROM city\n",
    "  ####  WHERE Name IN('Seoul', 'New york', 'Tokyo')"
   ]
  },
  {
   "cell_type": "markdown",
   "metadata": {},
   "source": [
    "#### LAB3\n",
    "- 한국, 미국, 일본 도시들만 보기\n",
    "   #### SELECT * FROM city\n",
    "   #### WHERE Name IN('Seoul', 'New York', 'Tokyo')"
   ]
  },
  {
   "cell_type": "markdown",
   "metadata": {},
   "source": [
    "### LIKE\n",
    "- 문자열의 내용 검색하기 위해 LIKE 연산자 사용\n",
    "- 문자 뒤에 %_ 무엇이든 허용\n",
    "- 한 글자와 매치하기 위해서는 ' _ ' 사용\n",
    "  - SELECT * FROM city\n",
    "  - WHERE CountryCode LIKE 'KO_' // _가 한글자를 매칭해줌\n",
    "  - WHERE CountryCode LIKE 'Tel %' // Tel로 시작하는 모든 문자를 가져와줌"
   ]
  },
  {
   "cell_type": "markdown",
   "metadata": {},
   "source": [
    "#### Sub Query\n",
    "- 서브 쿼리\n",
    "- 쿼리문 안에 또 쿼리문이 들어 있는 것\n",
    "- 서브 쿼리의 결과가 둘 이상이 되면 에러 발생\n",
    "   #### SELECT * FROM city\n",
    "   #### WHERE CountryCode = ( SELECT CountryCode \n",
    "   #### FROM city WHERE NAME = 'seoul');"
   ]
  },
  {
   "cell_type": "markdown",
   "metadata": {},
   "source": [
    " #### ANY\n",
    " - 서브쿼리의 여러 개의 결과 중 한가지만 만족해도 가능\n",
    " - SOME은 ANY와 동일한 의미로 사용\n",
    " - ANY 구문은 IN과 동일한 의미\n",
    " - 가장 작은 Population 값보다 큰 Population이 다 출력된다.\n",
    "  ###  SELECT * FROM city\n",
    "  ###  WHERE Population > SOME ( SELECT Population FROM city WHERE District = 'New York');\n",
    "   "
   ]
  },
  {
   "cell_type": "markdown",
   "metadata": {},
   "source": [
    "#### ALL\n",
    "- 서브쿼리의 여러 개의 결과를 모두 만족 시켜야 함\n",
    "- 즉, 위처럼 Population으로 수행할 경우 가장 큰 값보다 큰 결과를 출력하게 된다.\n",
    "\n",
    "#### SELECT * FROM city\n",
    "#### WHERE Population > ALL ( SELECT Population FROM city WHERE District = 'New York')"
   ]
  },
  {
   "cell_type": "markdown",
   "metadata": {},
   "source": [
    "### ORDER BY\n",
    "- 결과가 출력되는 순서를 조절하는 구문\n",
    "- 기본적으로 오름차순 정렬\n",
    "- 내림차순으로 정렬\n",
    "  - 열 이름 뒤에 DESC 적어줄 것\n",
    "- ASC(오름차순)는 default이므로 생략 가능\n",
    "\n",
    "#### SELECT * FROM city\n",
    "#### ORDER BY Population DESC"
   ]
  },
  {
   "cell_type": "markdown",
   "metadata": {},
   "source": [
    "- ORDER BY 구문을 혼합해 사용하는 구문도 가능\n",
    "#### SELECT * FROM city\n",
    "#### ORDER BY CountryCode ASC, Population DESC"
   ]
  },
  {
   "cell_type": "markdown",
   "metadata": {},
   "source": [
    "## LAB4\n",
    "### - 인구수로 내림차순하여 한국에 있는 도시 보기\n",
    "  #### SELECT * FROM city\n",
    "  #### WHERE CountryCode = 'KOR'\n",
    "  #### ORDER BY Population DESC;\n",
    "  \n",
    "### - 국가 면적 크기로 내림차순하여 나라 보기 (country table)\n",
    "  #### SELECT * FROM country\n",
    "  #### ORDER BY SurfaceArea DESC; // country table에서 확인 면적이 SurfaceArea임을 확인할 수 있었다."
   ]
  },
  {
   "cell_type": "markdown",
   "metadata": {},
   "source": [
    "#### DISTINCT\n",
    "- 중복된 것은 1개씩만 보여주는 출력\n",
    "- 테이블의 크기가 클수록 효율적이다."
   ]
  },
  {
   "cell_type": "markdown",
   "metadata": {},
   "source": [
    "#### SELECT DISTINCT CountryCode\n",
    "#### FROM city"
   ]
  },
  {
   "cell_type": "markdown",
   "metadata": {},
   "source": [
    "#### LIMIT\n",
    "- 출력 개수를 제한\n",
    "- 상위의 N개만 출력하는 'LIMIT N' 구문"
   ]
  }
 ],
 "metadata": {
  "kernelspec": {
   "display_name": "Python 3",
   "language": "python",
   "name": "python3"
  },
  "language_info": {
   "codemirror_mode": {
    "name": "ipython",
    "version": 3
   },
   "file_extension": ".py",
   "mimetype": "text/x-python",
   "name": "python",
   "nbconvert_exporter": "python",
   "pygments_lexer": "ipython3",
   "version": "3.8.5"
  }
 },
 "nbformat": 4,
 "nbformat_minor": 4
}
